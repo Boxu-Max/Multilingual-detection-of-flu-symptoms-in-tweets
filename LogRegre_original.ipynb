{
 "cells": [
  {
   "cell_type": "code",
   "execution_count": null,
   "metadata": {},
   "outputs": [],
   "source": [
    "# English Tweets with Logistic Regression"
   ]
  },
  {
   "cell_type": "code",
   "execution_count": null,
   "metadata": {},
   "outputs": [],
   "source": [
    "import pandas as pd\n",
    "import numpy as np\n",
    "\n",
    "train_en = pd.read_csv(\"NTCIR-13_MedWeb_en_training.csv\")\n",
    "test_en = pd.read_csv(\"NTCIR-13_MedWeb_en_test.csv\")"
   ]
  },
  {
   "cell_type": "code",
   "execution_count": null,
   "metadata": {},
   "outputs": [],
   "source": [
    "# remove punctuation inside\n",
    "import re\n",
    "def  clean_text_en(df, text_field): \n",
    "    df[text_field] = df[text_field].str.lower()\n",
    "    df[text_field] = df[text_field].apply(lambda elem: re.sub(r\"(@[A-Za-z0-9]+)|([^0-9A-Za-z \\t])|(\\w+:\\/\\/\\S+)|^rt|http.+?\", \"\", elem))  \n",
    "    return df"
   ]
  },
  {
   "cell_type": "code",
   "execution_count": null,
   "metadata": {},
   "outputs": [],
   "source": [
    "# update \n",
    "train_en = clean_text_en(train_en,\"Tweet\")\n",
    "test_en = clean_text_en(test_en,\"Tweet\")"
   ]
  },
  {
   "cell_type": "code",
   "execution_count": null,
   "metadata": {},
   "outputs": [],
   "source": [
    "# lemmatization\n",
    "import spacy\n",
    "from vectorizers import SpacyLemmatizer\n",
    "\n",
    "import en_core_web_sm\n",
    "nlp = en_core_web_sm.load()\n",
    "\n",
    "lemmatizer = SpacyLemmatizer(nlp, join_str=' ', n_threads=1)\n",
    "lemmas_train = lemmatizer(list(train_en.Tweet)) \n",
    "tweet_train_en = list(lemmas_train)\n",
    "\n",
    "lemmas_test = lemmatizer(list(test_en.Tweet))\n",
    "tweet_test_en = list(lemmas_test)"
   ]
  },
  {
   "cell_type": "code",
   "execution_count": null,
   "metadata": {},
   "outputs": [],
   "source": [
    "# add stopwords\n",
    "import nltk\n",
    "# nltk.download('stopwords')\n",
    "from nltk.corpus import stopwords\n",
    "stop = list(stopwords.words('english'))\n",
    "stop.extend('haha ugghh ugh uh um oh ok okay boo damn god yu yike yen yay mikos mitsuru shirasu lol sigh 10 100 10000 1004 102 104 320000 968' .split())"
   ]
  },
  {
   "cell_type": "code",
   "execution_count": null,
   "metadata": {},
   "outputs": [],
   "source": [
    "categories = ['Influenza','Diarrhea','Hayfever','Cough','Headache','Fever','Runnynose','Cold']\n",
    "\n",
    "y_train_en = train_en[categories].replace({'n':0, 'p':+1})\n",
    "y_test_en = test_en[categories].replace({'n':0, 'p':+1})"
   ]
  },
  {
   "cell_type": "code",
   "execution_count": null,
   "metadata": {},
   "outputs": [],
   "source": [
    "from sklearn.feature_extraction.text import CountVectorizer\n",
    "vectorizer = CountVectorizer(stop_words=set(stop))\n",
    "X_train = vectorizer.fit_transform(tweet_train_en).toarray()\n",
    "\n",
    "feature_en = vectorizer.get_feature_names()\n",
    "\n",
    "vectorizer_test = CountVectorizer(vocabulary=vectorizer.vocabulary_)\n",
    "X_test = vectorizer_test.transform(tweet_test_en).toarray()\n",
    "\n",
    "print(\"The vocabulary contains {} unique tokens\".format(len(feature_en)))"
   ]
  },
  {
   "cell_type": "code",
   "execution_count": null,
   "metadata": {},
   "outputs": [],
   "source": [
    "# check reassons for Hayfever\n",
    "from sklearn.linear_model import LogisticRegression\n",
    "from sklearn.model_selection import GridSearchCV\n",
    "\n",
    "param_grid = {'C': [10]}\n",
    "grid = GridSearchCV(LogisticRegression(C=10, solver='lbfgs', penalty='l2', max_iter=2500, class_weight='balanced'), param_grid, cv=5) # scoring='roc_auc'\n",
    "grid.fit(X_train, y_train_en[\"Hayfever\"].values)\n",
    "\n",
    "import matplotlib.pyplot as plt\n",
    "import mglearn\n",
    "mglearn.tools.visualize_coefficients(grid.best_estimator_.coef_, feature_en, n_top_features=25)\n",
    "plt.savefig(\"hayfever1Eng\")\n",
    "plt.show()"
   ]
  },
  {
   "cell_type": "code",
   "execution_count": null,
   "metadata": {},
   "outputs": [],
   "source": [
    "from sklearn.linear_model import LogisticRegression\n",
    "from sklearn.pipeline import Pipeline\n",
    "from sklearn.metrics import accuracy_score\n",
    "from sklearn.metrics import precision_score\n",
    "from sklearn.metrics import recall_score\n",
    "from sklearn.metrics import f1_score\n",
    "from sklearn.multiclass import OneVsRestClassifier\n",
    "\n",
    "\n",
    "# Using pipeline for applying logistic regression and one vs rest classifier\n",
    "LogReg_pipeline = Pipeline([\n",
    "                ('clf', OneVsRestClassifier(LogisticRegression(C=10, solver='lbfgs', penalty='l2', max_iter=2500, class_weight='balanced'), n_jobs=-1)),\n",
    "            ])\n",
    "for category in categories:\n",
    "    print('**Processing {} sysptoms...**'.format(category))\n",
    "    \n",
    "    # Training logistic regression model on train data\n",
    "    LogReg_pipeline.fit(X_train, y_train_en[category].values)\n",
    "    \n",
    "    # calculating test accuracy\n",
    "    prediction_en = LogReg_pipeline.predict(X_test)\n",
    "    print('Test accuracy is {}'.format(accuracy_score(y_test_en[category], prediction_en)))\n",
    "    print('Test precision is {}'.format(precision_score(y_test_en[category], prediction_en, average='binary')))\n",
    "    print('Test recall is {}'.format(recall_score(y_test_en[category], prediction_en, average='binary')))\n",
    "    print('Test f1-score is {}\\n'.format(f1_score(y_test_en[category], prediction_en, average='binary')))"
   ]
  },
  {
   "cell_type": "code",
   "execution_count": null,
   "metadata": {},
   "outputs": [],
   "source": [
    "print(\"Grid-search for best parameter in Logistic Regression >>\")\n",
    "from sklearn.model_selection import GridSearchCV\n",
    "from sklearn.linear_model import LogisticRegression\n",
    "model_to_set = OneVsRestClassifier(LogisticRegression(C=10, solver='lbfgs', penalty='l2', max_iter=2500, class_weight='balanced'))\n",
    "param_grid = {'estimator__C': [ 0.01, 0.1, 1, 10, 20]}\n",
    "grid = GridSearchCV(model_to_set, param_grid, scoring='f1_weighted',cv=5) # scoring='roc_auc'\n",
    "grid.fit(X_train, y_train_en)\n",
    "\n",
    "print(\"Best cross-validation score: {:.2f}\".format(grid.best_score_))\n",
    "print(\"Best parameters: \", grid.best_params_)"
   ]
  },
  {
   "cell_type": "code",
   "execution_count": null,
   "metadata": {},
   "outputs": [],
   "source": [
    "import matplotlib.pyplot as plt\n",
    "from sklearn.naive_bayes import MultinomialNB\n",
    "from sklearn.ensemble import RandomForestClassifier\n",
    "from sklearn.svm import LinearSVC\n",
    "\n",
    "from sklearn.model_selection import cross_val_score\n",
    "models = [\n",
    "    RandomForestClassifier(n_estimators=100, max_depth=50, random_state=0),\n",
    "    LinearSVC(C= 10),\n",
    "    MultinomialNB(),\n",
    "    LogisticRegression(C = 10),\n",
    "]\n",
    "CV = 5\n",
    "cv_df = pd.DataFrame(index=range(CV * len(models)))\n",
    "entries = []\n",
    "for model in models:\n",
    "    model_name = model.__class__.__name__\n",
    "    accuracies = cross_val_score(model, X_train, y_train_en[\"Cold\"], scoring='accuracy', cv=5)\n",
    "    for fold_idx, accuracy in enumerate(accuracies):\n",
    "        entries.append((model_name, fold_idx, accuracy))\n",
    "cv_df = pd.DataFrame(entries, columns=['model_name', 'fold_idx', 'accuracy'])\n",
    "import seaborn as sns\n",
    "sns.boxplot(x='model_name', y='accuracy', data=cv_df)\n",
    "sns.stripplot(x='model_name', y='accuracy', data=cv_df, \n",
    "              size=8, jitter=True, edgecolor=\"gray\", linewidth=2)\n",
    "plt.show()"
   ]
  },
  {
   "cell_type": "code",
   "execution_count": null,
   "metadata": {},
   "outputs": [],
   "source": [
    "plt.savefig(\"CV_ZH.jpg\")"
   ]
  },
  {
   "cell_type": "code",
   "execution_count": null,
   "metadata": {},
   "outputs": [],
   "source": [
    "# Chinese Tweets with Logistic Regression"
   ]
  },
  {
   "cell_type": "code",
   "execution_count": 1,
   "metadata": {},
   "outputs": [],
   "source": [
    "import pandas as pd\n",
    "import numpy as np\n",
    "\n",
    "train_zh = pd.read_csv(\"NTCIR-13_MedWeb_zh_training.csv\", na_values='NaN',keep_default_na=False)\n",
    "test_zh = pd.read_csv(\"NTCIR-13_MedWeb_zh_test.csv\", na_values='NaN',keep_default_na=False)\n",
    "test_zh = test_zh[:640]"
   ]
  },
  {
   "cell_type": "code",
   "execution_count": 2,
   "metadata": {},
   "outputs": [],
   "source": [
    "# remove punctuation inside\n",
    "import re\n",
    "from zhon.hanzi import punctuation\n",
    "\n",
    "def clean_text_zh(df, text_field):\n",
    "    \n",
    "    df[text_field] = df[text_field].apply(lambda elem:re.sub(r'[{}]+'.format(punctuation),'',elem))\n",
    "    \n",
    "    return df"
   ]
  },
  {
   "cell_type": "code",
   "execution_count": 3,
   "metadata": {},
   "outputs": [],
   "source": [
    "# update \n",
    "train_zh = clean_text_zh(train_zh,\"Tweet\")\n",
    "test_zh = clean_text_zh(test_zh,\"Tweet\")\n",
    "\n",
    "tweet_train_zh = list(train_zh.Tweet)\n",
    "tweet_test_zh = list(test_zh.Tweet)"
   ]
  },
  {
   "cell_type": "code",
   "execution_count": 4,
   "metadata": {},
   "outputs": [],
   "source": [
    "# introducing tokenizer\n",
    "import jieba\n",
    "\n",
    "def tokenize_zh(text):\n",
    "    words = jieba.lcut(text)\n",
    "    return words"
   ]
  },
  {
   "cell_type": "code",
   "execution_count": 5,
   "metadata": {},
   "outputs": [
    {
     "name": "stderr",
     "output_type": "stream",
     "text": [
      "Building prefix dict from the default dictionary ...\n",
      "Dumping model to file cache /var/folders/xz/jrlb55l167x3c2jq466bx5fm0000gn/T/jieba.cache\n",
      "Loading model cost 1.047 seconds.\n",
      "Prefix dict has been built successfully.\n"
     ]
    },
    {
     "name": "stdout",
     "output_type": "stream",
     "text": [
      "The vocabulary contains 2281 unique tokens\n"
     ]
    }
   ],
   "source": [
    "from sklearn.feature_extraction.text import CountVectorizer\n",
    "stop_words = [' ','！','？','、','。','〜','…','《','“','”','1','100','3','32','36','38','39','40',\n",
    "              'ok','了']\n",
    "vectorizer = CountVectorizer(tokenizer=tokenize_zh, stop_words=stop_words)\n",
    "X_train_zh = vectorizer.fit_transform(tweet_train_zh).toarray()\n",
    "\n",
    "feature_zh = vectorizer.get_feature_names()\n",
    "\n",
    "vectorizer_test = CountVectorizer(vocabulary=vectorizer.vocabulary_)\n",
    "X_test_zh = vectorizer.transform(tweet_test_zh).toarray()\n",
    "\n",
    "print(\"The vocabulary contains {} unique tokens\".format(len(feature_zh)))"
   ]
  },
  {
   "cell_type": "code",
   "execution_count": 6,
   "metadata": {},
   "outputs": [],
   "source": [
    "categories = ['Influenza','Diarrhea','Hayfever','Cough','Headache','Fever','Runnynose','Cold']\n",
    "\n",
    "y_train_zh = train_zh[categories].replace({'n':0, 'p':+1})\n",
    "y_test_zh = test_zh[categories].replace({'n':0, 'p':+1})"
   ]
  },
  {
   "cell_type": "code",
   "execution_count": null,
   "metadata": {},
   "outputs": [],
   "source": [
    "np.set_printoptions(threshold=np.inf) "
   ]
  },
  {
   "cell_type": "code",
   "execution_count": 8,
   "metadata": {},
   "outputs": [
    {
     "name": "stderr",
     "output_type": "stream",
     "text": [
      "/Users/boxulu/opt/anaconda3/lib/python3.7/site-packages/sklearn/externals/six.py:31: DeprecationWarning: The module is deprecated in version 0.21 and will be removed in version 0.23 since we've dropped support for Python 2.7. Please rely on the official version of six (https://pypi.org/project/six/).\n",
      "  \"(https://pypi.org/project/six/).\", DeprecationWarning)\n",
      "/Users/boxulu/opt/anaconda3/lib/python3.7/site-packages/sklearn/externals/joblib/__init__.py:15: DeprecationWarning: sklearn.externals.joblib is deprecated in 0.21 and will be removed in 0.23. Please import this functionality directly from joblib, which can be installed with: pip install joblib. If this warning is raised when loading pickled models, you may need to re-serialize those models with scikit-learn 0.21+.\n",
      "  warnings.warn(msg, category=DeprecationWarning)\n"
     ]
    }
   ],
   "source": [
    "# check reassons for Hayfever\n",
    "from sklearn.linear_model import LogisticRegression\n",
    "from sklearn.model_selection import GridSearchCV\n",
    "\n",
    "param_grid = {'C': [10]}\n",
    "grid = GridSearchCV(LogisticRegression(C=10, solver='lbfgs', penalty='l2', max_iter=2500, class_weight='balanced'), param_grid, cv=5) # scoring='roc_auc'\n",
    "grid.fit(X_train_zh, y_train_zh[\"Hayfever\"].values)\n",
    "\n",
    "import matplotlib.pyplot as plt \n",
    "plt.rcParams['font.sans-serif']=['SimHei']\n",
    "plt.rcParams['font.family']='sans-serif'\n",
    "plt.rcParams['axes.unicode_minus']=False \n",
    "\n",
    "import mglearn\n",
    "mglearn.tools.visualize_coefficients(grid.best_estimator_.coef_, feature_zh, n_top_features=25)\n",
    "plt.savefig(\"hayfever1Zh\")"
   ]
  },
  {
   "cell_type": "code",
   "execution_count": 9,
   "metadata": {},
   "outputs": [
    {
     "name": "stdout",
     "output_type": "stream",
     "text": [
      "**Processing Influenza sysptoms...**\n",
      "Test accuracy is 0.9671875\n",
      "Test precision is 0.5405405405405406\n",
      "Test recall is 0.8333333333333334\n",
      "Test f1-score is 0.6557377049180328\n",
      "\n",
      "**Processing Diarrhea sysptoms...**\n",
      "Test accuracy is 0.9765625\n",
      "Test precision is 0.8356164383561644\n",
      "Test recall is 0.953125\n",
      "Test f1-score is 0.8905109489051095\n",
      "\n",
      "**Processing Hayfever sysptoms...**\n",
      "Test accuracy is 0.975\n",
      "Test precision is 0.7678571428571429\n",
      "Test recall is 0.9347826086956522\n",
      "Test f1-score is 0.8431372549019608\n",
      "\n",
      "**Processing Cough sysptoms...**\n",
      "Test accuracy is 0.9796875\n",
      "Test precision is 0.9135802469135802\n",
      "Test recall is 0.925\n",
      "Test f1-score is 0.9192546583850932\n",
      "\n",
      "**Processing Headache sysptoms...**\n",
      "Test accuracy is 0.9765625\n",
      "Test precision is 0.8780487804878049\n",
      "Test recall is 0.935064935064935\n",
      "Test f1-score is 0.9056603773584906\n",
      "\n",
      "**Processing Fever sysptoms...**\n",
      "Test accuracy is 0.94375\n",
      "Test precision is 0.7663551401869159\n",
      "Test recall is 0.8817204301075269\n",
      "Test f1-score is 0.82\n",
      "\n",
      "**Processing Runnynose sysptoms...**\n",
      "Test accuracy is 0.9515625\n",
      "Test precision is 0.8285714285714286\n",
      "Test recall is 0.943089430894309\n",
      "Test f1-score is 0.88212927756654\n",
      "\n",
      "**Processing Cold sysptoms...**\n",
      "Test accuracy is 0.96875\n",
      "Test precision is 0.8571428571428571\n",
      "Test recall is 0.9333333333333333\n",
      "Test f1-score is 0.8936170212765957\n",
      "\n"
     ]
    }
   ],
   "source": [
    "from sklearn.linear_model import LogisticRegression\n",
    "from sklearn.pipeline import Pipeline\n",
    "from sklearn.metrics import accuracy_score\n",
    "from sklearn.metrics import precision_score\n",
    "from sklearn.metrics import recall_score\n",
    "from sklearn.metrics import f1_score\n",
    "from sklearn.multiclass import OneVsRestClassifier\n",
    "\n",
    "\n",
    "# Using pipeline for applying logistic regression and one vs rest classifier\n",
    "LogReg_pipeline = Pipeline([\n",
    "                ('clf', OneVsRestClassifier(LogisticRegression(C=10, solver='lbfgs', penalty='l2', max_iter=4000, class_weight='balanced'), n_jobs=-1)),\n",
    "            ])\n",
    "for category in categories:\n",
    "    print('**Processing {} sysptoms...**'.format(category))\n",
    "    \n",
    "    # Training logistic regression model on train data\n",
    "    LogReg_pipeline.fit(X_train_zh, y_train_zh[category].values)\n",
    "    \n",
    "    # calculating test accuracy\n",
    "    prediction_zh = LogReg_pipeline.predict(X_test_zh)\n",
    "    print('Test accuracy is {}'.format(accuracy_score(y_test_zh[category], prediction_zh)))\n",
    "    print('Test precision is {}'.format(precision_score(y_test_zh[category], prediction_zh, average='binary')))\n",
    "    print('Test recall is {}'.format(recall_score(y_test_zh[category], prediction_zh, average='binary')))\n",
    "    print('Test f1-score is {}\\n'.format(f1_score(y_test_zh[category], prediction_zh, average='binary')))"
   ]
  },
  {
   "cell_type": "code",
   "execution_count": 10,
   "metadata": {},
   "outputs": [
    {
     "name": "stdout",
     "output_type": "stream",
     "text": [
      "Grid-search for best parameter in Logistic Regression >>\n",
      "Best cross-validation score: 0.86\n",
      "Best parameters:  {'estimator__C': 10}\n"
     ]
    }
   ],
   "source": [
    "print(\"Grid-search for best parameter in Logistic Regression >>\")\n",
    "from sklearn.model_selection import GridSearchCV\n",
    "from sklearn.linear_model import LogisticRegression\n",
    "model_to_set = OneVsRestClassifier(LogisticRegression(C=10, solver='lbfgs', penalty='l2', max_iter=2500, class_weight='balanced'))\n",
    "param_grid = {'estimator__C': [ 0.01, 0.1, 1, 10, 20]}\n",
    "grid = GridSearchCV(model_to_set, param_grid, scoring='f1_weighted',cv=5) # scoring='roc_auc'\n",
    "grid.fit(X_train_zh, y_train_zh)\n",
    "\n",
    "print(\"Best cross-validation score: {:.2f}\".format(grid.best_score_))\n",
    "print(\"Best parameters: \", grid.best_params_)"
   ]
  },
  {
   "cell_type": "code",
   "execution_count": 36,
   "metadata": {},
   "outputs": [
    {
     "name": "stderr",
     "output_type": "stream",
     "text": [
      "/Users/boxulu/opt/anaconda3/lib/python3.7/site-packages/sklearn/linear_model/logistic.py:432: FutureWarning: Default solver will be changed to 'lbfgs' in 0.22. Specify a solver to silence this warning.\n",
      "  FutureWarning)\n",
      "/Users/boxulu/opt/anaconda3/lib/python3.7/site-packages/sklearn/linear_model/logistic.py:432: FutureWarning: Default solver will be changed to 'lbfgs' in 0.22. Specify a solver to silence this warning.\n",
      "  FutureWarning)\n",
      "/Users/boxulu/opt/anaconda3/lib/python3.7/site-packages/sklearn/linear_model/logistic.py:432: FutureWarning: Default solver will be changed to 'lbfgs' in 0.22. Specify a solver to silence this warning.\n",
      "  FutureWarning)\n",
      "/Users/boxulu/opt/anaconda3/lib/python3.7/site-packages/sklearn/linear_model/logistic.py:432: FutureWarning: Default solver will be changed to 'lbfgs' in 0.22. Specify a solver to silence this warning.\n",
      "  FutureWarning)\n",
      "/Users/boxulu/opt/anaconda3/lib/python3.7/site-packages/sklearn/linear_model/logistic.py:432: FutureWarning: Default solver will be changed to 'lbfgs' in 0.22. Specify a solver to silence this warning.\n",
      "  FutureWarning)\n"
     ]
    },
    {
     "data": {
      "image/png": "[encoded data removed]",
      "text/plain": [
       "<Figure size 432x288 with 1 Axes>"
      ]
     },
     "metadata": {
      "needs_background": "light"
     },
     "output_type": "display_data"
    }
   ],
   "source": [
    "import matplotlib.pyplot as plt\n",
    "from sklearn.naive_bayes import MultinomialNB\n",
    "from sklearn.ensemble import RandomForestClassifier\n",
    "from sklearn.svm import LinearSVC\n",
    "\n",
    "from sklearn.model_selection import cross_val_score\n",
    "models = [\n",
    "    RandomForestClassifier(n_estimators=100, max_depth=50, random_state=0),\n",
    "    LinearSVC(C= 0.01),\n",
    "    MultinomialNB(),\n",
    "    LogisticRegression(C = 10),\n",
    "]\n",
    "CV = 5\n",
    "cv_df = pd.DataFrame(index=range(CV * len(models)))\n",
    "entries = []\n",
    "for model in models:\n",
    "    model_name = model.__class__.__name__\n",
    "    f1_scores = cross_val_score(model, X_train_zh, y_train_zh[\"Cold\"], scoring='f1', cv=5)\n",
    "    for fold_idx, f1_score in enumerate(f1_scores):\n",
    "        entries.append((model_name, fold_idx, f1_score))\n",
    "cv_df = pd.DataFrame(entries, columns=['model_name', 'fold_idx', 'f1_score'])\n",
    "import seaborn as sns\n",
    "sns.boxplot(x='model_name', y='f1_score', data=cv_df)\n",
    "sns.stripplot(x='model_name', y='f1_score', data=cv_df, \n",
    "              size=8, jitter=True, edgecolor=\"gray\", linewidth=2)\n",
    "plt.ylim=(0.5,1.0)\n",
    "plt.savefig(\"CVZHF1.jpg\")\n",
    "plt.show()\n"
   ]
  },
  {
   "cell_type": "code",
   "execution_count": 38,
   "metadata": {},
   "outputs": [
    {
     "name": "stderr",
     "output_type": "stream",
     "text": [
      "/Users/boxulu/opt/anaconda3/lib/python3.7/site-packages/sklearn/linear_model/logistic.py:432: FutureWarning: Default solver will be changed to 'lbfgs' in 0.22. Specify a solver to silence this warning.\n",
      "  FutureWarning)\n",
      "/Users/boxulu/opt/anaconda3/lib/python3.7/site-packages/sklearn/linear_model/logistic.py:432: FutureWarning: Default solver will be changed to 'lbfgs' in 0.22. Specify a solver to silence this warning.\n",
      "  FutureWarning)\n",
      "/Users/boxulu/opt/anaconda3/lib/python3.7/site-packages/sklearn/linear_model/logistic.py:432: FutureWarning: Default solver will be changed to 'lbfgs' in 0.22. Specify a solver to silence this warning.\n",
      "  FutureWarning)\n",
      "/Users/boxulu/opt/anaconda3/lib/python3.7/site-packages/sklearn/linear_model/logistic.py:432: FutureWarning: Default solver will be changed to 'lbfgs' in 0.22. Specify a solver to silence this warning.\n",
      "  FutureWarning)\n",
      "/Users/boxulu/opt/anaconda3/lib/python3.7/site-packages/sklearn/linear_model/logistic.py:432: FutureWarning: Default solver will be changed to 'lbfgs' in 0.22. Specify a solver to silence this warning.\n",
      "  FutureWarning)\n",
      "/Users/boxulu/opt/anaconda3/lib/python3.7/site-packages/ipykernel_launcher.py:26: MatplotlibDeprecationWarning: Adding an axes using the same arguments as a previous axes currently reuses the earlier instance.  In a future version, a new instance will always be created and returned.  Meanwhile, this warning can be suppressed, and the future behavior ensured, by passing a unique label to each axes instance.\n"
     ]
    },
    {
     "data": {
      "image/png": "[encoded data removed]",
      "text/plain": [
       "<Figure size 432x288 with 1 Axes>"
      ]
     },
     "metadata": {
      "needs_background": "light"
     },
     "output_type": "display_data"
    }
   ],
   "source": [
    "import matplotlib.pyplot as plt\n",
    "from sklearn.naive_bayes import MultinomialNB\n",
    "from sklearn.ensemble import RandomForestClassifier\n",
    "from sklearn.svm import LinearSVC\n",
    "\n",
    "from sklearn.model_selection import cross_val_score\n",
    "models = [\n",
    "    RandomForestClassifier(n_estimators=100, max_depth=50, random_state=0),\n",
    "    LinearSVC(C= 0.01),\n",
    "    MultinomialNB(),\n",
    "    LogisticRegression(C = 10),\n",
    "]\n",
    "CV = 5\n",
    "cv_df = pd.DataFrame(index=range(CV * len(models)))\n",
    "entries = []\n",
    "for model in models:\n",
    "    model_name = model.__class__.__name__\n",
    "    accuracies = cross_val_score(model, X_train_zh, y_train_zh[\"Cold\"], scoring='accuracy', cv=5)\n",
    "    for fold_idx, accuracy in enumerate(accuracies):\n",
    "        entries.append((model_name, fold_idx, accuracy))\n",
    "cv_df = pd.DataFrame(entries, columns=['model_name', 'fold_idx', 'accuracy'])\n",
    "import seaborn as sns\n",
    "sns.boxplot(x='model_name', y='accuracy', data=cv_df)\n",
    "sns.stripplot(x='model_name', y='accuracy', data=cv_df, \n",
    "              size=8, jitter=True, edgecolor=\"gray\", linewidth=2)\n",
    "axes = plt.axes()\n",
    "axes.set_ylim([0.9,1.0])\n",
    "plt.savefig(\"CVZHACC.jpg\")\n",
    "plt.show()"
   ]
  },
  {
   "cell_type": "code",
   "execution_count": null,
   "metadata": {},
   "outputs": [],
   "source": [
    "# Japanese Tweets with Logistic Regression"
   ]
  },
  {
   "cell_type": "code",
   "execution_count": 14,
   "metadata": {},
   "outputs": [],
   "source": [
    "import pandas as pd\n",
    "import numpy as np\n",
    "\n",
    "train_ja = pd.read_csv(\"NTCIR-13_MedWeb_ja_training.csv\", na_values='NaN',keep_default_na=False)\n",
    "test_ja = pd.read_csv(\"NTCIR-13_MedWeb_ja_test.csv\", na_values='NaN',keep_default_na=False)\n"
   ]
  },
  {
   "cell_type": "code",
   "execution_count": 15,
   "metadata": {},
   "outputs": [],
   "source": [
    "# remove punctuation inside\n",
    "import re\n",
    "from zhon.hanzi import punctuation\n",
    "\n",
    "def clean_text_ja(df, text_field):\n",
    "    \n",
    "    df[text_field] = df[text_field].apply(lambda elem:re.sub(r'[{}]+'.format(punctuation),'',elem))\n",
    "    \n",
    "    return df"
   ]
  },
  {
   "cell_type": "code",
   "execution_count": 16,
   "metadata": {},
   "outputs": [],
   "source": [
    "# update \n",
    "train_ja = clean_text_ja(train_ja,\"Tweet\")\n",
    "test_ja = clean_text_ja(test_ja,\"Tweet\")\n",
    "\n",
    "tweet_train_ja = list(train_ja.Tweet)\n",
    "tweet_test_ja = list(test_ja.Tweet)"
   ]
  },
  {
   "cell_type": "code",
   "execution_count": 17,
   "metadata": {},
   "outputs": [],
   "source": [
    "# Add Japanese tokenizer\n",
    "import nagisa\n",
    "\n",
    "def tokenize_jp(doc):\n",
    "    doc = nagisa.tagging(doc)\n",
    "    return doc.words"
   ]
  },
  {
   "cell_type": "code",
   "execution_count": 18,
   "metadata": {},
   "outputs": [
    {
     "name": "stdout",
     "output_type": "stream",
     "text": [
      "The vocabulary contains 2152 unique tokens\n"
     ]
    }
   ],
   "source": [
    "from sklearn.feature_extraction.text import CountVectorizer\n",
    "stop_words = ['!','0','1','2','3','4','6','8','9','?','、','。','〜','・']\n",
    "vectorizer = CountVectorizer(tokenizer=tokenize_jp, stop_words=stop_words)\n",
    "X_train_ja = vectorizer.fit_transform(tweet_train_ja).toarray()\n",
    "\n",
    "feature_ja = vectorizer.get_feature_names()\n",
    "\n",
    "vectorizer_test = CountVectorizer(tokenizer=tokenize_jp,vocabulary=vectorizer.vocabulary_)\n",
    "X_test_ja = vectorizer_test.transform(tweet_test_ja).toarray()\n",
    "\n",
    "print(\"The vocabulary contains {} unique tokens\".format(len(feature_ja)))"
   ]
  },
  {
   "cell_type": "code",
   "execution_count": 19,
   "metadata": {},
   "outputs": [],
   "source": [
    "categories = ['Influenza','Diarrhea','Hayfever','Cough','Headache','Fever','Runnynose','Cold']\n",
    "\n",
    "y_train_ja = train_ja[categories].replace({'n':0, 'p':+1})\n",
    "y_test_ja = test_ja[categories].replace({'n':0, 'p':+1})"
   ]
  },
  {
   "cell_type": "code",
   "execution_count": 20,
   "metadata": {},
   "outputs": [
    {
     "name": "stdout",
     "output_type": "stream",
     "text": [
      "**Processing Influenza sysptoms...**\n",
      "Test accuracy is 0.9703125\n",
      "Test precision is 0.5641025641025641\n",
      "Test recall is 0.9166666666666666\n",
      "Test f1-score is 0.6984126984126983\n",
      "\n",
      "**Processing Diarrhea sysptoms...**\n",
      "Test accuracy is 0.9828125\n",
      "Test precision is 0.8732394366197183\n",
      "Test recall is 0.96875\n",
      "Test f1-score is 0.9185185185185184\n",
      "\n",
      "**Processing Hayfever sysptoms...**\n",
      "Test accuracy is 0.98125\n",
      "Test precision is 0.8269230769230769\n",
      "Test recall is 0.9347826086956522\n",
      "Test f1-score is 0.8775510204081632\n",
      "\n",
      "**Processing Cough sysptoms...**\n",
      "Test accuracy is 0.9828125\n",
      "Test precision is 0.9156626506024096\n",
      "Test recall is 0.95\n",
      "Test f1-score is 0.9325153374233127\n",
      "\n",
      "**Processing Headache sysptoms...**\n",
      "Test accuracy is 0.9875\n",
      "Test precision is 0.9367088607594937\n",
      "Test recall is 0.961038961038961\n",
      "Test f1-score is 0.9487179487179488\n",
      "\n",
      "**Processing Fever sysptoms...**\n",
      "Test accuracy is 0.93125\n",
      "Test precision is 0.7168141592920354\n",
      "Test recall is 0.8709677419354839\n",
      "Test f1-score is 0.7864077669902911\n",
      "\n",
      "**Processing Runnynose sysptoms...**\n",
      "Test accuracy is 0.9609375\n",
      "Test precision is 0.8656716417910447\n",
      "Test recall is 0.943089430894309\n",
      "Test f1-score is 0.9027237354085602\n",
      "\n",
      "**Processing Cold sysptoms...**\n",
      "Test accuracy is 0.9703125\n",
      "Test precision is 0.8817204301075269\n",
      "Test recall is 0.9111111111111111\n",
      "Test f1-score is 0.8961748633879781\n",
      "\n"
     ]
    }
   ],
   "source": [
    "from sklearn.linear_model import LogisticRegression\n",
    "from sklearn.pipeline import Pipeline\n",
    "from sklearn.metrics import accuracy_score\n",
    "from sklearn.metrics import precision_score\n",
    "from sklearn.metrics import recall_score\n",
    "from sklearn.metrics import f1_score\n",
    "from sklearn.multiclass import OneVsRestClassifier\n",
    "\n",
    "\n",
    "# Using pipeline for applying logistic regression and one vs rest classifier\n",
    "LogReg_pipeline = Pipeline([\n",
    "                ('clf', OneVsRestClassifier(LogisticRegression(C=10, solver='lbfgs', penalty='l2', max_iter=4000, class_weight='balanced'), n_jobs=-1)),\n",
    "            ])\n",
    "for category in categories:\n",
    "    print('**Processing {} sysptoms...**'.format(category))\n",
    "    \n",
    "    # Training logistic regression model on train data\n",
    "    LogReg_pipeline.fit(X_train_ja, y_train_ja[category].values)\n",
    "    \n",
    "    # calculating test accuracy\n",
    "    prediction_ja = LogReg_pipeline.predict(X_test_ja)\n",
    "    print('Test accuracy is {}'.format(accuracy_score(y_test_ja[category], prediction_ja)))\n",
    "    print('Test precision is {}'.format(precision_score(y_test_ja[category], prediction_ja, average='binary')))\n",
    "    print('Test recall is {}'.format(recall_score(y_test_ja[category], prediction_ja, average='binary')))\n",
    "    print('Test f1-score is {}\\n'.format(f1_score(y_test_ja[category], prediction_ja, average='binary')))"
   ]
  },
  {
   "cell_type": "code",
   "execution_count": 43,
   "metadata": {},
   "outputs": [
    {
     "name": "stderr",
     "output_type": "stream",
     "text": [
      "/Users/boxulu/opt/anaconda3/lib/python3.7/site-packages/sklearn/linear_model/logistic.py:432: FutureWarning: Default solver will be changed to 'lbfgs' in 0.22. Specify a solver to silence this warning.\n",
      "  FutureWarning)\n",
      "/Users/boxulu/opt/anaconda3/lib/python3.7/site-packages/sklearn/linear_model/logistic.py:432: FutureWarning: Default solver will be changed to 'lbfgs' in 0.22. Specify a solver to silence this warning.\n",
      "  FutureWarning)\n",
      "/Users/boxulu/opt/anaconda3/lib/python3.7/site-packages/sklearn/linear_model/logistic.py:432: FutureWarning: Default solver will be changed to 'lbfgs' in 0.22. Specify a solver to silence this warning.\n",
      "  FutureWarning)\n",
      "/Users/boxulu/opt/anaconda3/lib/python3.7/site-packages/sklearn/linear_model/logistic.py:432: FutureWarning: Default solver will be changed to 'lbfgs' in 0.22. Specify a solver to silence this warning.\n",
      "  FutureWarning)\n",
      "/Users/boxulu/opt/anaconda3/lib/python3.7/site-packages/sklearn/linear_model/logistic.py:432: FutureWarning: Default solver will be changed to 'lbfgs' in 0.22. Specify a solver to silence this warning.\n",
      "  FutureWarning)\n"
     ]
    },
    {
     "data": {
      "image/png": "[encoded data removed]",
      "text/plain": [
       "<Figure size 432x288 with 1 Axes>"
      ]
     },
     "metadata": {
      "needs_background": "light"
     },
     "output_type": "display_data"
    }
   ],
   "source": [
    "import matplotlib.pyplot as plt\n",
    "from sklearn.naive_bayes import MultinomialNB\n",
    "from sklearn.ensemble import RandomForestClassifier\n",
    "from sklearn.svm import LinearSVC\n",
    "\n",
    "from sklearn.model_selection import cross_val_score\n",
    "models = [\n",
    "    RandomForestClassifier(n_estimators=100, max_depth=20, random_state=0),\n",
    "    LinearSVC(C= 10),\n",
    "    MultinomialNB(),\n",
    "    LogisticRegression(C = 10),\n",
    "]\n",
    "CV = 5\n",
    "cv_df = pd.DataFrame(index=range(CV * len(models)))\n",
    "entries = []\n",
    "for model in models:\n",
    "    model_name = model.__class__.__name__\n",
    "    accuracies = cross_val_score(model, X_train_ja, y_train_ja[\"Cold\"], scoring='accuracy', cv=5)\n",
    "    for fold_idx, accuracy in enumerate(accuracies):\n",
    "        entries.append((model_name, fold_idx, accuracy))\n",
    "cv_df = pd.DataFrame(entries, columns=['model_name', 'fold_idx', 'accuracy'])\n",
    "import seaborn as sns\n",
    "sns.boxplot(x='model_name', y='accuracy', data=cv_df)\n",
    "sns.stripplot(x='model_name', y='accuracy', data=cv_df, \n",
    "              size=8, jitter=True, edgecolor=\"gray\", linewidth=2)\n",
    "plt.ylim=(0.5,1.0)\n",
    "plt.savefig(\"CVJACC.jpg\")\n",
    "plt.show()"
   ]
  },
  {
   "cell_type": "code",
   "execution_count": 44,
   "metadata": {},
   "outputs": [
    {
     "name": "stderr",
     "output_type": "stream",
     "text": [
      "/Users/boxulu/opt/anaconda3/lib/python3.7/site-packages/sklearn/linear_model/logistic.py:432: FutureWarning: Default solver will be changed to 'lbfgs' in 0.22. Specify a solver to silence this warning.\n",
      "  FutureWarning)\n",
      "/Users/boxulu/opt/anaconda3/lib/python3.7/site-packages/sklearn/linear_model/logistic.py:432: FutureWarning: Default solver will be changed to 'lbfgs' in 0.22. Specify a solver to silence this warning.\n",
      "  FutureWarning)\n",
      "/Users/boxulu/opt/anaconda3/lib/python3.7/site-packages/sklearn/linear_model/logistic.py:432: FutureWarning: Default solver will be changed to 'lbfgs' in 0.22. Specify a solver to silence this warning.\n",
      "  FutureWarning)\n",
      "/Users/boxulu/opt/anaconda3/lib/python3.7/site-packages/sklearn/linear_model/logistic.py:432: FutureWarning: Default solver will be changed to 'lbfgs' in 0.22. Specify a solver to silence this warning.\n",
      "  FutureWarning)\n",
      "/Users/boxulu/opt/anaconda3/lib/python3.7/site-packages/sklearn/linear_model/logistic.py:432: FutureWarning: Default solver will be changed to 'lbfgs' in 0.22. Specify a solver to silence this warning.\n",
      "  FutureWarning)\n"
     ]
    },
    {
     "data": {
      "image/png": "[encoded data removed]",
      "text/plain": [
       "<Figure size 432x288 with 1 Axes>"
      ]
     },
     "metadata": {
      "needs_background": "light"
     },
     "output_type": "display_data"
    }
   ],
   "source": [
    "import matplotlib.pyplot as plt\n",
    "from sklearn.naive_bayes import MultinomialNB\n",
    "from sklearn.ensemble import RandomForestClassifier\n",
    "from sklearn.svm import LinearSVC\n",
    "\n",
    "from sklearn.model_selection import cross_val_score\n",
    "models = [\n",
    "    RandomForestClassifier(n_estimators=100, max_depth=50, random_state=0),\n",
    "    LinearSVC(C= 15),\n",
    "    MultinomialNB(),\n",
    "    LogisticRegression(C = 10),\n",
    "]\n",
    "CV = 5\n",
    "cv_df = pd.DataFrame(index=range(CV * len(models)))\n",
    "entries = []\n",
    "for model in models:\n",
    "    model_name = model.__class__.__name__\n",
    "    f1_scores = cross_val_score(model, X_train_ja, y_train_ja[\"Cold\"], scoring='f1', cv=5)\n",
    "    for fold_idx, f1_score in enumerate(f1_scores):\n",
    "        entries.append((model_name, fold_idx, f1_score))\n",
    "cv_df = pd.DataFrame(entries, columns=['model_name', 'fold_idx', 'f1_score'])\n",
    "import seaborn as sns\n",
    "sns.boxplot(x='model_name', y='f1_score', data=cv_df)\n",
    "sns.stripplot(x='model_name', y='f1_score', data=cv_df, \n",
    "              size=8, jitter=True, edgecolor=\"gray\", linewidth=2)\n",
    "\n",
    "\n",
    "plt.savefig(\"CVJAF1.jpg\")\n",
    "plt.show()"
   ]
  },
  {
   "cell_type": "code",
   "execution_count": null,
   "metadata": {},
   "outputs": [],
   "source": []
  }
 ],
 "metadata": {
  "kernelspec": {
   "display_name": "Python 3",
   "language": "python",
   "name": "python3"
  },
  "language_info": {
   "codemirror_mode": {
    "name": "ipython",
    "version": 3
   },
   "file_extension": ".py",
   "mimetype": "text/x-python",
   "name": "python",
   "nbconvert_exporter": "python",
   "pygments_lexer": "ipython3",
   "version": "3.7.4"
  }
 },
 "nbformat": 4,
 "nbformat_minor": 2
}
